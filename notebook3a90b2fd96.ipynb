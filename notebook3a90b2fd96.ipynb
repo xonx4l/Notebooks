{
  "metadata": {
    "kernelspec": {
      "language": "python",
      "display_name": "Python 3",
      "name": "python3"
    },
    "language_info": {
      "name": "python",
      "version": "3.10.13",
      "mimetype": "text/x-python",
      "codemirror_mode": {
        "name": "ipython",
        "version": 3
      },
      "pygments_lexer": "ipython3",
      "nbconvert_exporter": "python",
      "file_extension": ".py"
    },
    "kaggle": {
      "accelerator": "none",
      "dataSources": [
        {
          "sourceId": 3136,
          "databundleVersionId": 26502,
          "sourceType": "competition"
        }
      ],
      "dockerImageVersionId": 30646,
      "isInternetEnabled": false,
      "language": "python",
      "sourceType": "notebook",
      "isGpuEnabled": false
    },
    "colab": {
      "name": "notebook3a90b2fd96",
      "provenance": [],
      "include_colab_link": true
    }
  },
  "nbformat_minor": 0,
  "nbformat": 4,
  "cells": [
    {
      "cell_type": "markdown",
      "metadata": {
        "id": "view-in-github",
        "colab_type": "text"
      },
      "source": [
        "<a href=\"https://colab.research.google.com/github/xonx4l/Notebooks/blob/main/notebook3a90b2fd96.ipynb\" target=\"_parent\"><img src=\"https://colab.research.google.com/assets/colab-badge.svg\" alt=\"Open In Colab\"/></a>"
      ]
    },
    {
      "source": [
        "\n",
        "# IMPORTANT: RUN THIS CELL IN ORDER TO IMPORT YOUR KAGGLE DATA SOURCES\n",
        "# TO THE CORRECT LOCATION (/kaggle/input) IN YOUR NOTEBOOK,\n",
        "# THEN FEEL FREE TO DELETE THIS CELL.\n",
        "# NOTE: THIS NOTEBOOK ENVIRONMENT DIFFERS FROM KAGGLE'S PYTHON\n",
        "# ENVIRONMENT SO THERE MAY BE MISSING LIBRARIES USED BY YOUR\n",
        "# NOTEBOOK.\n",
        "\n",
        "import os\n",
        "import sys\n",
        "from tempfile import NamedTemporaryFile\n",
        "from urllib.request import urlopen\n",
        "from urllib.parse import unquote, urlparse\n",
        "from urllib.error import HTTPError\n",
        "from zipfile import ZipFile\n",
        "import tarfile\n",
        "import shutil\n",
        "\n",
        "CHUNK_SIZE = 40960\n",
        "DATA_SOURCE_MAPPING = 'titanic:https%3A%2F%2Fstorage.googleapis.com%2Fkaggle-competitions-data%2Fkaggle-v2%2F3136%2F26502%2Fbundle%2Farchive.zip%3FX-Goog-Algorithm%3DGOOG4-RSA-SHA256%26X-Goog-Credential%3Dgcp-kaggle-com%2540kaggle-161607.iam.gserviceaccount.com%252F20240226%252Fauto%252Fstorage%252Fgoog4_request%26X-Goog-Date%3D20240226T093940Z%26X-Goog-Expires%3D259200%26X-Goog-SignedHeaders%3Dhost%26X-Goog-Signature%3D957e7ed244815716dbb0665ea3d6596cf149bc7c6ea4a344a1a7d732390923f540329068b7b51052ce80e533ebee0422931353a609f185e7c8652cb888693c737b6a360d6d60c5cdb347d6e9be073c4b27562d00404b6dfa25cb9b62ccd5c660dc79dc034c29b5fb9b46b7e8402d6db96f47a8a3314078316a3c8ba903ac30c71a379b91db4000b0e153d1d43e149aff3dd908c558d2208bfbb3379abd762e48f7b7de8b21d105f04624f0cc6a8de80e6ea266d35ef7bc2288f5ddf16bde9f4d1c3041e3e3f5713ff9be5e041ceae9e737e44b857abaa9302ee84a21aa084d59bed29fd285acf180f57ceeecaefcb08155b0b3f4505c3f6d33f36eb99e7625e7'\n",
        "\n",
        "KAGGLE_INPUT_PATH='/kaggle/input'\n",
        "KAGGLE_WORKING_PATH='/kaggle/working'\n",
        "KAGGLE_SYMLINK='kaggle'\n",
        "\n",
        "!umount /kaggle/input/ 2> /dev/null\n",
        "shutil.rmtree('/kaggle/input', ignore_errors=True)\n",
        "os.makedirs(KAGGLE_INPUT_PATH, 0o777, exist_ok=True)\n",
        "os.makedirs(KAGGLE_WORKING_PATH, 0o777, exist_ok=True)\n",
        "\n",
        "try:\n",
        "  os.symlink(KAGGLE_INPUT_PATH, os.path.join(\"..\", 'input'), target_is_directory=True)\n",
        "except FileExistsError:\n",
        "  pass\n",
        "try:\n",
        "  os.symlink(KAGGLE_WORKING_PATH, os.path.join(\"..\", 'working'), target_is_directory=True)\n",
        "except FileExistsError:\n",
        "  pass\n",
        "\n",
        "for data_source_mapping in DATA_SOURCE_MAPPING.split(','):\n",
        "    directory, download_url_encoded = data_source_mapping.split(':')\n",
        "    download_url = unquote(download_url_encoded)\n",
        "    filename = urlparse(download_url).path\n",
        "    destination_path = os.path.join(KAGGLE_INPUT_PATH, directory)\n",
        "    try:\n",
        "        with urlopen(download_url) as fileres, NamedTemporaryFile() as tfile:\n",
        "            total_length = fileres.headers['content-length']\n",
        "            print(f'Downloading {directory}, {total_length} bytes compressed')\n",
        "            dl = 0\n",
        "            data = fileres.read(CHUNK_SIZE)\n",
        "            while len(data) > 0:\n",
        "                dl += len(data)\n",
        "                tfile.write(data)\n",
        "                done = int(50 * dl / int(total_length))\n",
        "                sys.stdout.write(f\"\\r[{'=' * done}{' ' * (50-done)}] {dl} bytes downloaded\")\n",
        "                sys.stdout.flush()\n",
        "                data = fileres.read(CHUNK_SIZE)\n",
        "            if filename.endswith('.zip'):\n",
        "              with ZipFile(tfile) as zfile:\n",
        "                zfile.extractall(destination_path)\n",
        "            else:\n",
        "              with tarfile.open(tfile.name) as tarfile:\n",
        "                tarfile.extractall(destination_path)\n",
        "            print(f'\\nDownloaded and uncompressed: {directory}')\n",
        "    except HTTPError as e:\n",
        "        print(f'Failed to load (likely expired) {download_url} to path {destination_path}')\n",
        "        continue\n",
        "    except OSError as e:\n",
        "        print(f'Failed to load {download_url} to path {destination_path}')\n",
        "        continue\n",
        "\n",
        "print('Data source import complete.')\n"
      ],
      "metadata": {
        "id": "VZaUlwqFyOWc"
      },
      "cell_type": "code",
      "outputs": [],
      "execution_count": null
    },
    {
      "cell_type": "code",
      "source": [
        "import numpy as np\n",
        "import pandas as pd\n",
        "import matplotlib.pyplot as plt\n",
        "import seaborn as sns\n",
        "from sklearn.model_selection import train_test_split, GridSearchCV\n",
        "from sklearn.preprocessing import StandardScaler, OneHotEncoder\n",
        "from sklearn.compose import ColumnTransformer\n",
        "from sklearn.pipeline import Pipeline\n",
        "from sklearn.impute import SimpleImputer\n",
        "from sklearn.ensemble import RandomForestClassifier\n",
        "from sklearn.metrics import accuracy_score, confusion_matrix, classification_report\n",
        "\n",
        "sns.set(style=\"whitegrid\")\n"
      ],
      "metadata": {
        "execution": {
          "iopub.status.busy": "2024-02-26T09:28:50.759592Z",
          "iopub.execute_input": "2024-02-26T09:28:50.760017Z",
          "iopub.status.idle": "2024-02-26T09:28:52.323544Z",
          "shell.execute_reply.started": "2024-02-26T09:28:50.759981Z",
          "shell.execute_reply": "2024-02-26T09:28:52.322504Z"
        },
        "trusted": true,
        "id": "_LvGagbfyOWg"
      },
      "execution_count": null,
      "outputs": []
    },
    {
      "cell_type": "code",
      "source": [
        "train_data = pd.read_csv('/kaggle/input/titanic/train.csv')\n",
        "test_data = pd.read_csv('/kaggle/input/titanic/test.csv')\n"
      ],
      "metadata": {
        "execution": {
          "iopub.status.busy": "2024-02-26T09:29:05.548419Z",
          "iopub.execute_input": "2024-02-26T09:29:05.548814Z",
          "iopub.status.idle": "2024-02-26T09:29:05.568639Z",
          "shell.execute_reply.started": "2024-02-26T09:29:05.548785Z",
          "shell.execute_reply": "2024-02-26T09:29:05.56743Z"
        },
        "trusted": true,
        "id": "KwoOEE1pyOWg"
      },
      "execution_count": null,
      "outputs": []
    },
    {
      "cell_type": "code",
      "source": [
        "def feature_engineering(df):\n",
        "    df['Title'] = df.Name.str.extract(' ([A-Za-z]+)\\.', expand=False)\n",
        "    df['Title'] = df['Title'].replace(['Mlle', 'Ms', 'Mme'], ['Miss', 'Miss', 'Mrs']).replace(['Lady', 'Countess', 'Capt', 'Col', 'Don', 'Dr', 'Major', 'Rev', 'Sir', 'Jonkheer', 'Dona'], 'Rare')\n",
        "\n",
        "    df['AgeBin'] = pd.cut(df['Age'], bins=[0, 12, 20, 40, 60, 100], labels=['Child', 'Teen', 'Adult', 'Senior', 'Elder'])\n",
        "    df['FareBin'] = pd.qcut(df['Fare'], 5, labels=['VeryLow', 'Low', 'Medium', 'High', 'VeryHigh'])\n",
        "\n",
        "    df['FamilySize'] = df['SibSp'] + df['Parch'] + 1\n",
        "    df['IsAlone'] = (df['FamilySize'] == 1).astype(int)\n",
        "    df['LargeFamily'] = (df['FamilySize'] > 4).astype(int)\n",
        "\n",
        "    df['Cabin'] = df['Cabin'].apply(lambda x: x[0] if pd.notna(x) else 'M')\n",
        "    df['Deck'] = df['Cabin'].map({'A': 'ABC', 'B': 'ABC', 'C': 'ABC', 'D': 'DE', 'E': 'DE', 'F': 'FG', 'G': 'FG', 'M': 'M'})\n",
        "\n",
        "    return df\n",
        "\n",
        "train_data = feature_engineering(train_data)\n",
        "test_data = feature_engineering(test_data)"
      ],
      "metadata": {
        "execution": {
          "iopub.status.busy": "2024-02-26T09:36:24.767494Z",
          "iopub.execute_input": "2024-02-26T09:36:24.768363Z",
          "iopub.status.idle": "2024-02-26T09:36:24.815431Z",
          "shell.execute_reply.started": "2024-02-26T09:36:24.768325Z",
          "shell.execute_reply": "2024-02-26T09:36:24.814336Z"
        },
        "trusted": true,
        "id": "-YX2m2yPyOWg"
      },
      "execution_count": null,
      "outputs": []
    },
    {
      "cell_type": "code",
      "source": [
        "num_features = ['SibSp', 'Parch', 'FamilySize']\n",
        "cat_features = ['Sex', 'Embarked', 'Pclass', 'Title', 'AgeBin', 'FareBin', 'IsAlone', 'LargeFamily', 'Deck']\n",
        "\n",
        "numeric_transformer = Pipeline(steps=[\n",
        "    ('imputer', SimpleImputer(strategy='median')),\n",
        "    ('scaler', StandardScaler())])\n",
        "\n",
        "categorical_transformer = Pipeline(steps=[\n",
        "    ('imputer', SimpleImputer(strategy='most_frequent')),\n",
        "    ('onehot', OneHotEncoder(handle_unknown='ignore'))])\n",
        "\n",
        "preprocessor = ColumnTransformer(transformers=[\n",
        "    ('num', numeric_transformer, num_features),\n",
        "    ('cat', categorical_transformer, cat_features)])"
      ],
      "metadata": {
        "execution": {
          "iopub.status.busy": "2024-02-26T09:36:46.394614Z",
          "iopub.execute_input": "2024-02-26T09:36:46.395032Z",
          "iopub.status.idle": "2024-02-26T09:36:46.40307Z",
          "shell.execute_reply.started": "2024-02-26T09:36:46.395Z",
          "shell.execute_reply": "2024-02-26T09:36:46.401938Z"
        },
        "trusted": true,
        "id": "k3t_gK1AyOWh"
      },
      "execution_count": null,
      "outputs": []
    },
    {
      "cell_type": "code",
      "source": [
        "model = Pipeline(steps=[('preprocessor', preprocessor),\n",
        "                        ('classifier', RandomForestClassifier(random_state=42))])\n",
        "\n",
        "param_grid = {\n",
        "    'classifier__n_estimators': [100, 200],\n",
        "    'classifier__max_depth': [10, 15, 20],\n",
        "    'classifier__min_samples_split': [3, 5, 7],\n",
        "    'classifier__min_samples_leaf': [1, 2, 3]\n",
        "}\n",
        "\n",
        "grid_search = GridSearchCV(model, param_grid, cv=5, scoring='accuracy', n_jobs=-1)"
      ],
      "metadata": {
        "execution": {
          "iopub.status.busy": "2024-02-26T09:37:01.203885Z",
          "iopub.execute_input": "2024-02-26T09:37:01.20429Z",
          "iopub.status.idle": "2024-02-26T09:37:01.211471Z",
          "shell.execute_reply.started": "2024-02-26T09:37:01.204257Z",
          "shell.execute_reply": "2024-02-26T09:37:01.210185Z"
        },
        "trusted": true,
        "id": "COOGnRCmyOWh"
      },
      "execution_count": null,
      "outputs": []
    },
    {
      "cell_type": "code",
      "source": [
        "X = train_data.drop(['Survived', 'PassengerId', 'Name', 'Ticket'], axis=1)\n",
        "y = train_data['Survived']\n",
        "X_train, X_val, y_train, y_val = train_test_split(X, y, test_size=0.2, random_state=42)\n",
        "\n",
        "grid_search.fit(X_train, y_train)\n",
        "print(\"Best parameters:\", grid_search.best_params_)\n",
        "print(\"Best cross-validation score: {:.2f}\".format(grid_search.best_score_))"
      ],
      "metadata": {
        "execution": {
          "iopub.status.busy": "2024-02-26T09:37:15.102827Z",
          "iopub.execute_input": "2024-02-26T09:37:15.103202Z",
          "iopub.status.idle": "2024-02-26T09:38:01.656206Z",
          "shell.execute_reply.started": "2024-02-26T09:37:15.103172Z",
          "shell.execute_reply": "2024-02-26T09:38:01.654751Z"
        },
        "trusted": true,
        "id": "ad3HsgICyOWh"
      },
      "execution_count": null,
      "outputs": []
    },
    {
      "cell_type": "code",
      "source": [
        "best_model = grid_search.best_estimator_\n",
        "y_pred = best_model.predict(X_val)\n",
        "print(\"Accuracy on validation set:\", accuracy_score(y_val, y_pred))\n",
        "print(\"Confusion Matrix:\\n\", confusion_matrix(y_val, y_pred))\n",
        "print(\"Classification Report:\\n\", classification_report(y_val, y_pred))"
      ],
      "metadata": {
        "execution": {
          "iopub.status.busy": "2024-02-26T09:38:09.103218Z",
          "iopub.execute_input": "2024-02-26T09:38:09.10362Z",
          "iopub.status.idle": "2024-02-26T09:38:09.142288Z",
          "shell.execute_reply.started": "2024-02-26T09:38:09.103587Z",
          "shell.execute_reply": "2024-02-26T09:38:09.141096Z"
        },
        "trusted": true,
        "id": "qlTGjgePyOWh"
      },
      "execution_count": null,
      "outputs": []
    },
    {
      "cell_type": "code",
      "source": [
        "predictions = best_model.predict(test_data.drop(['PassengerId', 'Name', 'Ticket'], axis=1))\n",
        "submission = pd.DataFrame({'PassengerId': test_data['PassengerId'], 'Survived': predictions})\n",
        "submission.to_csv('/kaggle/working/submission.csv', index=False)\n",
        "print(\"Submission file is ready and saved to '/kaggle/working/submission.csv'\")"
      ],
      "metadata": {
        "execution": {
          "iopub.status.busy": "2024-02-26T09:38:24.765993Z",
          "iopub.execute_input": "2024-02-26T09:38:24.767042Z",
          "iopub.status.idle": "2024-02-26T09:38:24.808773Z",
          "shell.execute_reply.started": "2024-02-26T09:38:24.767Z",
          "shell.execute_reply": "2024-02-26T09:38:24.807503Z"
        },
        "trusted": true,
        "id": "y3e0V_eIyOWi"
      },
      "execution_count": null,
      "outputs": []
    },
    {
      "cell_type": "code",
      "source": [],
      "metadata": {
        "id": "0khUy9bYyOWi"
      },
      "execution_count": null,
      "outputs": []
    }
  ]
}